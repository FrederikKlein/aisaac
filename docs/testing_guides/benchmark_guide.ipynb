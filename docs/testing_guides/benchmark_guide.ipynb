{
 "cells": [
  {
   "cell_type": "markdown",
   "source": [
    "# aisaac benchmarking quickstart guide\n",
    "\n",
    "Welcome to the interactive testing notebook for `aisaac`, An Intelligent Screening Assistant for Academic Content. This notebook is designed to guide you through the process of testing `aisaac` under various configurations, particularly focusing on its integration with different Language Learning Models (LLMs).\n",
    "\n",
    "## Objective\n",
    "\n",
    "This notebook aims to:\n",
    "- Demonstrate how to perform basic and advanced tests on `aisaic`.\n",
    "- Guide users through creating their own tests for custom configurations.\n",
    "- Offer executable examples that illustrate `aisaac`'s compatibility and performance with a variety of LLMs.\n",
    "\n",
    "## Getting Started\n",
    "\n",
    "Before we dive into the testing procedures, please ensure you have the following prerequisites satisfied:\n",
    "\n",
    "1. **Python Installation**: Ensure you have Python >= 3.9 installed on your system. This notebook was tested with Python 3.10.\n",
    "\n",
    "2. **Project Setup**: If you haven't already, clone the `aisaac` repository and navigate to its root directory:\n",
    "\n",
    "    ```bash\n",
    "    git clone <repository-url>\n",
    "    cd aisaac\n",
    "    ```\n",
    "\n",
    "3. **Install Dependencies**: Install the required dependencies by running the following command:\n",
    "\n",
    "    ```bash\n",
    "    pip install -r requirements.txt\n",
    "    ```\n",
    "\n",
    "    Make sure to \n",
    "    a. have Ollama and all the LLMs that you want to test locally installed (in Ollama) or\n",
    "    b. have the LLMs that you want to test available in the cloud (via Xinference)"
   ],
   "metadata": {
    "collapsed": false
   },
   "id": "be9211d3d8048036"
  },
  {
   "cell_type": "markdown",
   "source": [
    "# 1. Setup"
   ],
   "metadata": {
    "collapsed": false
   },
   "id": "48fd15a64023a225"
  },
  {
   "cell_type": "markdown",
   "source": [
    "Setup the imports"
   ],
   "metadata": {
    "collapsed": false
   },
   "id": "e8b2a050eb509170"
  },
  {
   "cell_type": "code",
   "outputs": [],
   "source": [
    "from aisaac.aisaac.core.screener import Screener\n",
    "from aisaac.aisaac.utils.context_manager import ContextManager\n",
    "\n",
    "from aisaac.aisaac.core.criteria_optimizer import CriteriaOptimizer\n",
    "from aisaac.aisaac.core.evaluator import Evaluator\n",
    "\n",
    "import time\n",
    "import csv"
   ],
   "metadata": {
    "collapsed": false
   },
   "id": "d879211a49adc0be"
  },
  {
   "cell_type": "markdown",
   "source": [
    "Setup the variables"
   ],
   "metadata": {
    "collapsed": false
   },
   "id": "3b6e335573fbb6d9"
  },
  {
   "cell_type": "code",
   "outputs": [],
   "source": [
    "performance_file = \"aisaac_performance.csv\"\n",
    "testable_llms = [\"mistral:latest\", \"gemma:2b\", \"gemma:7b\", \"llama2:7b\", \"mixtral:8x7b-text-v0.1-q2_K\"]\n",
    "standard_checkpoints = {\n",
    "                        \"Thyroid Cancer Types\": \n",
    "                            \"If the study involves any type of thyroid cancer such as Papillary TC, Follicular TC, Medullary TC, Poorly Differentiated TC, Anaplastic TC, Hurtle cell carcinoma, or Non-invasive follicular thyroid neoplasm with papillary-like nuclear features (NIFTP), then return True. However, If the study involves non-malignant entities or conditions other than the specified types of thyroid cancer, then return False.\",\n",
    "\n",
    "                        \"Study Population\": \n",
    "                            \"If the study is conducted on human subjects, then return True. Otherwise, if the study is conducted on an organism different than human,  animals or uses cell lines,  return False.\",\n",
    "\n",
    "                        \"Study Type\": \n",
    "                            \"If the article is a conference abstract, review, study without results (like a protocol), or model-based study, or if it investigates specific pathways or genetic alterations only, then return False. Otherwise return True\",\n",
    "\n",
    "                        \"DNA alterations\": \n",
    "                            \"If the study is an original paper reporting on DNA alterations in thyroid cancer, then return True. Otherwise return False.\",\n",
    "\n",
    "                        \"Methodology\": \n",
    "                            \"If the study uses Whole exome sequencing (WES), Whole genome sequencing (WGS), Next generation sequencing (NGS), Sanger sequencing, Custom panel, or Microarray analysis, then return True. Otherwise, return False.\",\n",
    "\n",
    "                        \"TCGA or RNA/protein\": \n",
    "                            \"If the study involves computational analysis of TCGA data or any previously reported studies, or if it reports RNA/protein sequencing only, then return False. Otherwise, return True.\"\n",
    "}"
   ],
   "metadata": {
    "collapsed": false,
    "ExecuteTime": {
     "end_time": "2024-04-09T11:34:38.581060Z",
     "start_time": "2024-04-09T11:34:38.577933Z"
    }
   },
   "id": "18dbe27787afc6d4",
   "execution_count": 6
  },
  {
   "cell_type": "markdown",
   "source": [
    "Initial setup of the Document Data Manager and Vector Data Manager so that it doesn't have to be done for every test.\n",
    "For this, all Data Managers should access the same binary ('bin') as cache, meaning that parallel processing is not possible"
   ],
   "metadata": {
    "collapsed": false
   },
   "id": "77e913053b1d0f5"
  },
  {
   "cell_type": "code",
   "outputs": [],
   "source": [
    "initial_cm = ContextManager()\n",
    "initial_cm.set_config('BIN_PATH', \"bin\")\n",
    "initial_cm.get_document_data_manager().update_global_data()\n",
    "# This only has to be done once for every place that you store the data, comment it out after you ran it\n",
    "# initial_cm.get_vector_data_manager().create_document_stores()"
   ],
   "metadata": {
    "collapsed": false
   },
   "id": "3742aea292324384"
  },
  {
   "cell_type": "markdown",
   "source": [
    "# 2. Support Methods"
   ],
   "metadata": {
    "collapsed": false
   },
   "id": "1b25b546a24ec256"
  },
  {
   "cell_type": "markdown",
   "source": [
    "set up your testing configuration here"
   ],
   "metadata": {
    "collapsed": false
   },
   "id": "ac15e0ff18f91ed3"
  },
  {
   "cell_type": "code",
   "outputs": [],
   "source": [
    "def set_up_cm(current_llm, round, checkpoints):\n",
    "    setup_cm = ContextManager()\n",
    "    setup_cm.set_config('RAG_MODEL', current_llm)\n",
    "    setup_cm.set_config('RESULT_FILE', f\"results_{round}_{current_llm}\")\n",
    "    setup_cm.set_config('FEATURE_IMPORTANCE_THRESHOLD', -0.1)\n",
    "    setup_cm.set_config('BIN_PATH', \"bin\")\n",
    "    setup_cm.set_config('CHECKPOINT_DICTIONARY', checkpoints)\n",
    "    setup_cm.set_config('LOGGING_LEVEL', \"ERROR\")\n",
    "    setup_cm.get_document_data_manager()\n",
    "    return setup_cm"
   ],
   "metadata": {
    "collapsed": false
   },
   "id": "d291c455c1dbbcd3"
  },
  {
   "cell_type": "markdown",
   "source": [
    "the benchmarking process consists of screening, evaluation and optimization"
   ],
   "metadata": {
    "collapsed": false
   },
   "id": "92ebd65f56e0ec73"
  },
  {
   "cell_type": "code",
   "outputs": [],
   "source": [
    "def run_eval(cm):\n",
    "    start_time = time.time()\n",
    "    screener = Screener(cm)\n",
    "    screener.do_screening()\n",
    "    end_time = time.time()\n",
    "    elapsed_time = end_time - start_time\n",
    "    evaluator = Evaluator(cm)\n",
    "    evaluation = evaluator.get_full_evaluation()\n",
    "    # save return of evaluator in performance file\n",
    "    with open(performance_file, 'a', newline='') as csvfile:\n",
    "        csvwriter = csv.writer(csvfile)\n",
    "        csvwriter.writerow([cm.get_config('RESULT_FILE'), evaluation, elapsed_time, cm.get_config('CHECKPOINT_DICTIONARY')])\n",
    "    feature_importance = evaluation[2]\n",
    "    criteria_optimizer = CriteriaOptimizer(cm)\n",
    "    return criteria_optimizer.automated_feature_improvement(feature_importance)"
   ],
   "metadata": {
    "collapsed": false,
    "ExecuteTime": {
     "end_time": "2024-04-09T11:32:22.921997Z",
     "start_time": "2024-04-09T11:32:22.914750Z"
    }
   },
   "id": "5381d8f29507e393",
   "execution_count": 3
  },
  {
   "cell_type": "markdown",
   "source": [
    "To keep track of the progress. Edit the total_iterations variable to the number of tests you are going to run"
   ],
   "metadata": {
    "collapsed": false
   },
   "id": "fa1f8b20c0738915"
  },
  {
   "cell_type": "code",
   "outputs": [],
   "source": [
    "counter = 0\n",
    "total_iterations = len(testable_llms)*3\n",
    "\n",
    "def update_counter(counter):\n",
    "    counter+=1\n",
    "    print(f\"\\n\\n\\n\\nThis is iteration No. {counter} out of {total_iterations} total iterations\\n\")\n",
    "    return counter"
   ],
   "metadata": {
    "collapsed": false,
    "ExecuteTime": {
     "end_time": "2024-04-09T11:34:41.719915Z",
     "start_time": "2024-04-09T11:34:41.716665Z"
    }
   },
   "id": "e4fbd3caa617b1ae",
   "execution_count": 7
  },
  {
   "cell_type": "markdown",
   "source": [
    "# 3. Main Test"
   ],
   "metadata": {
    "collapsed": false
   },
   "id": "ad427b359e7c420a"
  },
  {
   "cell_type": "markdown",
   "source": [
    "This test will run the benchmarking process for all the LLMs in the testable_llms list. It will run the benchmarking process three times for each LLM, with the initial checkpoints, and two improved versions of the checkpoints. The improved checkpoints are generated by the CriteriaOptimizer class.\n",
    "\n",
    "Feel free to create your own test-loop, for example with different similarity_search_threshholds?"
   ],
   "metadata": {
    "collapsed": false
   },
   "id": "37dbd7b02e16dcf9"
  },
  {
   "cell_type": "code",
   "outputs": [],
   "source": [
    "for llm in testable_llms:\n",
    "    counter = update_counter(counter)\n",
    "    cm = set_up_cm(llm, \"initial\", standard_checkpoints)\n",
    "    new_checkpoints = run_eval(cm)\n",
    "    counter = update_counter(counter)\n",
    "    cm = set_up_cm(llm, \"improv1\", new_checkpoints)\n",
    "    new_checkpoints = run_eval(cm)\n",
    "    counter = update_counter(counter)\n",
    "    cm = set_up_cm(llm, \"improv2\", new_checkpoints)\n",
    "    run_eval(cm)"
   ],
   "metadata": {
    "collapsed": false
   },
   "id": "c886d6a49af5e34e"
  },
  {
   "cell_type": "markdown",
   "source": [
    "# 4. Conclusion\n",
    "Your insights are invaluable for us, so please consider sharing your findings with us. \n",
    "\n",
    "If you encounter any issues, have suggestions for improvements, or want to discuss your testing experiences, please reach out through the project's repository issues or contact channels."
   ],
   "metadata": {
    "collapsed": false
   },
   "id": "f2aa5839bdef2af2"
  },
  {
   "cell_type": "code",
   "outputs": [],
   "source": [],
   "metadata": {
    "collapsed": false
   },
   "id": "c0d7c6edeeab3696"
  }
 ],
 "metadata": {
  "kernelspec": {
   "display_name": "Python 3",
   "language": "python",
   "name": "python3"
  },
  "language_info": {
   "codemirror_mode": {
    "name": "ipython",
    "version": 2
   },
   "file_extension": ".py",
   "mimetype": "text/x-python",
   "name": "python",
   "nbconvert_exporter": "python",
   "pygments_lexer": "ipython2",
   "version": "2.7.6"
  }
 },
 "nbformat": 4,
 "nbformat_minor": 5
}
