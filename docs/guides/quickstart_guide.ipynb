{
 "cells": [
  {
   "cell_type": "markdown",
   "source": [
    "Here's a quickstart guide to get you up and running with the package."
   ],
   "metadata": {
    "collapsed": false
   },
   "id": "195836a44c30b7af"
  },
  {
   "cell_type": "markdown",
   "source": [
    "The code is currently divided into the functionalities it provides. The main functionalities are:\n",
    "1. Screening a set of PDFs or MDs against inclusion/ecxlusion criteria.\n",
    "2. Evaluating the quality of the screening process against a gold standard.\n",
    "3. Optimizing the criteria.\n",
    "\n",
    "Q: _But wouldn't it be easier to just have one god class that does everything?_ \n",
    "A: Sure, but once you understand the logic of the architecture, you'll see that it's quite straightforward. No code gets loaded or executed until it's absolutely necessary and the seperation of concerns is intact. \n",
    "I get that every coder follows different practices, so I will define a class in this notebook though that you can easily copy if you'd rather have everything in one place."
   ],
   "metadata": {
    "collapsed": false
   },
   "id": "54b40482b33228f1"
  },
  {
   "cell_type": "markdown",
   "source": [
    "First, let's talk\n",
    "# Imports"
   ],
   "metadata": {
    "collapsed": false
   },
   "id": "eb13d84d313aba9d"
  },
  {
   "cell_type": "code",
   "outputs": [],
   "source": [
    "# depending which of the functionalities you want to use, you can import the following classes\n",
    "from aisaac.aisaac.core.screener import Screener\n",
    "from aisaac.aisaac.core.criteria_optimizer import CriteriaOptimizer\n",
    "from aisaac.aisaac.core.evaluator import Evaluator\n",
    "\n",
    "# if you want to change any of the default settings (which will probably be necessary), you can import the context_manager class\n",
    "from aisaac.aisaac.utils.context_manager import ContextManager\n",
    "\n",
    "# these two imports will come in handy\n",
    "import time\n",
    "import csv"
   ],
   "metadata": {
    "collapsed": false
   },
   "id": "40da10bba1ed66e5"
},
  {
   "cell_type": "markdown",
   "source": [
    "# Changing the settings\n",
    "Now, let's have a look at the context manager. This class is responsible for managing the configuration and facilitating the integration of various utility modules such as data handling, model management, and result saving within an application context. Although at first glance this might seem more complex, it really isn't. As long as you use the context manager, there will be no clashes, no dataloss or dataleaks due to wrong parameters.\n",
    "You do not have to change all of the settings, only those that are relevant to you and your use case. If you want to have a more in depth look of the context manager, have a look at the context manager documentation in the docs folder."
   ],
   "metadata": {
    "collapsed": false
   },
   "id": "45692ef06ea559a6"
  },
  {
   "cell_type": "code",
   "outputs": [],
   "source": [
    "# Creating a ContextManager instance with custom configurations\n",
    "custom_config = {\n",
    "    'DATA_PATHS': [\"Data/MyData\"],\n",
    "    'CHECKPOINT_DICTIONARY': {\"Checkpoint 1\": \"this is the checkpoint\", \"Checkpoint 2\": \"this is another checkpoint\"}\n",
    "}\n",
    "context_manager = ContextManager(config=custom_config)"
   ],
   "metadata": {
    "collapsed": false
   },
   "id": "b7866596dbd90671"
  },
  {
   "cell_type": "code",
   "outputs": [],
   "source": [
    "# you can change configurations afterwards but be aware that these might lead to conflicts\n",
    "context_manager.set_config('DATA_PATHS', [\"Data/NewData\"])"
   ],
   "metadata": {
    "collapsed": false
   },
   "id": "7e6914053176c7e2"
  },
  {
   "cell_type": "code",
   "outputs": [],
   "source": [
    "# you can also get the current configuration\n",
    "context_manager.get_config('DATA_PATHS')"
   ],
   "metadata": {
    "collapsed": false
   },
   "id": "6aee1db41576704"
  },
  {
   "cell_type": "markdown",
   "source": [
    "The relevant directory configurations are the following:"
   ],
   "metadata": {
    "collapsed": false
   },
   "id": "2da2e3918cf463cf"
  },
  {
   "cell_type": "code",
   "outputs": [],
   "source": [
    "custom_config = {\n",
    "    'BASE_PATH': 'BaseDir',\n",
    "    'BIN_PATH': \"bin\",\n",
    "    'CHROMA_PATH': \"chroma\",\n",
    "    'DATA_PATHS': [\"Data/MyData\"],\n",
    "    'RESULT_PATH': \"results\",\n",
    "    'ORIGINAL_RESULT_PATH': \"gold_standard_data\",\n",
    "    'RESULT_FILE': \"results.csv\", # will be created automatically\n",
    "    'ORIGINAL_RESULT_FILE': \"gold_standard.csv\", # which is in the ORIGINAL_RESULT_PATH\n",
    "}"
   ],
   "metadata": {
    "collapsed": false
   },
   "id": "1ef9bd9237e77320"
  },
  {
   "cell_type": "markdown",
   "source": [
    "# Screening\n",
    "\n",
    "Let's talk about the screening process. I assume that there is a directory structure that looks like this:\n",
    "\n",
    "```\n",
    "BaseDir\n",
    "│\n",
    "└───bin\n",
    "│\n",
    "└───chroma\n",
    "│\n",
    "└───Data\n",
    "│   │ MyData\n",
    "│   │   │ file1.pdf\n",
    "│   │   │ file2.pdf\n",
    "│   │   │ ...\n",
    "│\n",
    "└───gold_standard_data\n",
    "│   │ gold_standard.csv (doesn't have to exist yet)\n",
    "│\n",
    "└───results\n",
    "│   │ results.csv (doesn't have to exist yet, will be created automatically)\n",
    "```\n",
    "\n",
    "Drop all the files you want to screen in the MyData folder. Set the checkpoints in the context manager. Set which models you want to use in the screener. Update the data_manager to the new data. If not happened yet, create the embeddings.\n",
    "Then you can start the screening process.\n",
    "\n",
    "Currently, the creation of the directories does not happen automatically. Also updating the data_manager once you uploaded all your data does not happen automatically. This is to prevent unnecessary data loading and saving, but can be automated in the future."
   ],
   "metadata": {
    "collapsed": false
   },
   "id": "5dafd0da306941ce"
  },
  {
   "cell_type": "code",
   "outputs": [],
   "source": [
    "initial_cm = ContextManager()\n",
    "# set the relevant configurations\n",
    "initial_cm.set_config('BASE_DIR', \"BaseDir\")\n",
    "initial_cm.set_config('BIN_PATH', \"bin\")\n",
    "initial_cm.set_config('CHROMA_PATH', \"chroma\")\n",
    "initial_cm.set_config('DATA_PATHS', [\"Data/MyData\"])\n",
    "initial_cm.set_config('RESULT_PATH', \"results\")\n",
    "initial_cm.set_config('ORIGINAL_RESULT_PATH', \"gold_standard_data\")\n",
    "initial_cm.set_config('RESULT_FILE', \"results.csv\")\n",
    "# choose your models and whether you want to use local models\n",
    "initial_cm.set_config('LOCAL_MODELS', \"False\")\n",
    "initial_cm.set_config('MODEL_CLIENT_URL', \"https://llm.cosy.bio\")\n",
    "initial_cm.set_config('EMBEDDING_MODEL', \"gte-large\")\n",
    "initial_cm.set_config('RAG_MODEL', \"llama-2-chat\")\n",
    "\n",
    "# these commands are currently still necessary to do manually, they will be automated in the future\n",
    "initial_cm.get_document_data_manager().update_global_data() # once all the data is uploaded\n",
    "initial_cm.get_vector_data_manager().create_document_stores() # after updating the global data, creates the embeddings"
   ],
   "metadata": {
    "collapsed": false
   },
   "id": "76fd96ec69675b70"
  },
  {
   "cell_type": "code",
   "outputs": [],
   "source": [
    "screener = Screener(initial_cm)\n",
    "screener.do_screening()"
   ],
   "metadata": {
    "collapsed": false
   },
   "id": "18dda41d7f7a86a2"
  },
  {
   "cell_type": "markdown",
   "source": [
    "The results will be found in the result file you specified."
   ],
   "metadata": {
    "collapsed": false
   },
   "id": "ed692417afdaa2b4"
  }
 ],
 "metadata": {
  "kernelspec": {
   "display_name": "Python 3",
   "language": "python",
   "name": "python3"
  },
  "language_info": {
   "codemirror_mode": {
    "name": "ipython",
    "version": 2
   },
   "file_extension": ".py",
   "mimetype": "text/x-python",
   "name": "python",
   "nbconvert_exporter": "python",
   "pygments_lexer": "ipython2",
   "version": "2.7.6"
  }
 },
 "nbformat": 4,
 "nbformat_minor": 5
}
